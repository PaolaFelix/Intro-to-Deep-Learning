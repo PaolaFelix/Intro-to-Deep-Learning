{
 "cells": [
  {
   "cell_type": "markdown",
   "id": "605ff45e",
   "metadata": {
    "papermill": {
     "duration": 0.006048,
     "end_time": "2024-10-01T21:58:12.615498",
     "exception": false,
     "start_time": "2024-10-01T21:58:12.609450",
     "status": "completed"
    },
    "tags": []
   },
   "source": [
    "**This notebook is an exercise in the [Intro to Deep Learning](https://www.kaggle.com/learn/intro-to-deep-learning) course.  You can reference the tutorial at [this link](https://www.kaggle.com/ryanholbrook/binary-classification).**\n",
    "\n",
    "---\n"
   ]
  },
  {
   "cell_type": "markdown",
   "id": "eb540a30",
   "metadata": {
    "papermill": {
     "duration": 0.005102,
     "end_time": "2024-10-01T21:58:12.626360",
     "exception": false,
     "start_time": "2024-10-01T21:58:12.621258",
     "status": "completed"
    },
    "tags": []
   },
   "source": [
    "# Introduction #\n",
    "\n",
    "In this exercise, you'll build a model to predict hotel cancellations with a binary classifier."
   ]
  },
  {
   "cell_type": "code",
   "execution_count": 1,
   "id": "a0939947",
   "metadata": {
    "execution": {
     "iopub.execute_input": "2024-10-01T21:58:12.638782Z",
     "iopub.status.busy": "2024-10-01T21:58:12.638369Z",
     "iopub.status.idle": "2024-10-01T21:58:13.567790Z",
     "shell.execute_reply": "2024-10-01T21:58:13.566705Z"
    },
    "lines_to_next_cell": 0,
    "papermill": {
     "duration": 0.938796,
     "end_time": "2024-10-01T21:58:13.570556",
     "exception": false,
     "start_time": "2024-10-01T21:58:12.631760",
     "status": "completed"
    },
    "tags": []
   },
   "outputs": [
    {
     "name": "stderr",
     "output_type": "stream",
     "text": [
      "/tmp/ipykernel_18/3338970720.py:3: MatplotlibDeprecationWarning: The seaborn styles shipped by Matplotlib are deprecated since 3.6, as they no longer correspond to the styles shipped by seaborn. However, they will remain available as 'seaborn-v0_8-<style>'. Alternatively, directly use the seaborn API instead.\n",
      "  plt.style.use('seaborn-whitegrid')\n"
     ]
    }
   ],
   "source": [
    "# Setup plotting\n",
    "import matplotlib.pyplot as plt\n",
    "plt.style.use('seaborn-whitegrid')\n",
    "# Set Matplotlib defaults\n",
    "plt.rc('figure', autolayout=True)\n",
    "plt.rc('axes', labelweight='bold', labelsize='large',\n",
    "       titleweight='bold', titlesize=18, titlepad=10)\n",
    "plt.rc('animation', html='html5')\n",
    "\n",
    "# Setup feedback system\n",
    "from learntools.core import binder\n",
    "binder.bind(globals())\n",
    "from learntools.deep_learning_intro.ex6 import *"
   ]
  },
  {
   "cell_type": "markdown",
   "id": "36580785",
   "metadata": {
    "papermill": {
     "duration": 0.005443,
     "end_time": "2024-10-01T21:58:13.581920",
     "exception": false,
     "start_time": "2024-10-01T21:58:13.576477",
     "status": "completed"
    },
    "tags": []
   },
   "source": [
    "First, load the *Hotel Cancellations* dataset."
   ]
  },
  {
   "cell_type": "code",
   "execution_count": 2,
   "id": "e55276fd",
   "metadata": {
    "execution": {
     "iopub.execute_input": "2024-10-01T21:58:13.595044Z",
     "iopub.status.busy": "2024-10-01T21:58:13.594494Z",
     "iopub.status.idle": "2024-10-01T21:58:16.741470Z",
     "shell.execute_reply": "2024-10-01T21:58:16.740013Z"
    },
    "lines_to_next_cell": 2,
    "papermill": {
     "duration": 3.157203,
     "end_time": "2024-10-01T21:58:16.744705",
     "exception": false,
     "start_time": "2024-10-01T21:58:13.587502",
     "status": "completed"
    },
    "tags": []
   },
   "outputs": [],
   "source": [
    "import pandas as pd\n",
    "\n",
    "from sklearn.model_selection import train_test_split\n",
    "from sklearn.preprocessing import StandardScaler, OneHotEncoder\n",
    "from sklearn.impute import SimpleImputer\n",
    "from sklearn.pipeline import make_pipeline\n",
    "from sklearn.compose import make_column_transformer\n",
    "\n",
    "hotel = pd.read_csv('../input/dl-course-data/hotel.csv')\n",
    "\n",
    "X = hotel.copy()\n",
    "y = X.pop('is_canceled')\n",
    "\n",
    "X['arrival_date_month'] = \\\n",
    "    X['arrival_date_month'].map(\n",
    "        {'January':1, 'February': 2, 'March':3,\n",
    "         'April':4, 'May':5, 'June':6, 'July':7,\n",
    "         'August':8, 'September':9, 'October':10,\n",
    "         'November':11, 'December':12}\n",
    "    )\n",
    "\n",
    "features_num = [\n",
    "    \"lead_time\", \"arrival_date_week_number\",\n",
    "    \"arrival_date_day_of_month\", \"stays_in_weekend_nights\",\n",
    "    \"stays_in_week_nights\", \"adults\", \"children\", \"babies\",\n",
    "    \"is_repeated_guest\", \"previous_cancellations\",\n",
    "    \"previous_bookings_not_canceled\", \"required_car_parking_spaces\",\n",
    "    \"total_of_special_requests\", \"adr\",\n",
    "]\n",
    "features_cat = [\n",
    "    \"hotel\", \"arrival_date_month\", \"meal\",\n",
    "    \"market_segment\", \"distribution_channel\",\n",
    "    \"reserved_room_type\", \"deposit_type\", \"customer_type\",\n",
    "]\n",
    "\n",
    "transformer_num = make_pipeline(\n",
    "    SimpleImputer(strategy=\"constant\"), # there are a few missing values\n",
    "    StandardScaler(),\n",
    ")\n",
    "transformer_cat = make_pipeline(\n",
    "    SimpleImputer(strategy=\"constant\", fill_value=\"NA\"),\n",
    "    OneHotEncoder(handle_unknown='ignore'),\n",
    ")\n",
    "\n",
    "preprocessor = make_column_transformer(\n",
    "    (transformer_num, features_num),\n",
    "    (transformer_cat, features_cat),\n",
    ")\n",
    "\n",
    "# stratify - make sure classes are evenlly represented across splits\n",
    "X_train, X_valid, y_train, y_valid = \\\n",
    "    train_test_split(X, y, stratify=y, train_size=0.75)\n",
    "\n",
    "X_train = preprocessor.fit_transform(X_train)\n",
    "X_valid = preprocessor.transform(X_valid)\n",
    "\n",
    "input_shape = [X_train.shape[1]]"
   ]
  },
  {
   "cell_type": "markdown",
   "id": "73433211",
   "metadata": {
    "papermill": {
     "duration": 0.007319,
     "end_time": "2024-10-01T21:58:16.759589",
     "exception": false,
     "start_time": "2024-10-01T21:58:16.752270",
     "status": "completed"
    },
    "tags": []
   },
   "source": [
    "# 1) Define Model #\n",
    "\n",
    "The model we'll use this time will have both batch normalization and dropout layers. To ease reading we've broken the diagram into blocks, but you can define it layer by layer as usual.\n",
    "\n",
    "Define a model with an architecture given by this diagram:\n",
    "\n",
    "<figure style=\"padding: 1em;\">\n",
    "<img src=\"https://storage.googleapis.com/kaggle-media/learn/images/V04o59Z.png\" width=\"400\" alt=\"Diagram of network architecture: BatchNorm, Dense, BatchNorm, Dropout, Dense, BatchNorm, Dropout, Dense.\">\n",
    "<figcaption style=\"textalign: center; font-style: italic\"><center>Diagram of a binary classifier.</center></figcaption>\n",
    "</figure>\n"
   ]
  },
  {
   "cell_type": "code",
   "execution_count": 3,
   "id": "5d341f36",
   "metadata": {
    "execution": {
     "iopub.execute_input": "2024-10-01T21:58:16.776402Z",
     "iopub.status.busy": "2024-10-01T21:58:16.775965Z",
     "iopub.status.idle": "2024-10-01T21:58:31.365974Z",
     "shell.execute_reply": "2024-10-01T21:58:31.364828Z"
    },
    "lines_to_next_cell": 2,
    "papermill": {
     "duration": 14.600768,
     "end_time": "2024-10-01T21:58:31.368388",
     "exception": false,
     "start_time": "2024-10-01T21:58:16.767620",
     "status": "completed"
    },
    "tags": []
   },
   "outputs": [
    {
     "name": "stderr",
     "output_type": "stream",
     "text": [
      "2024-10-01 21:58:18.954853: E external/local_xla/xla/stream_executor/cuda/cuda_dnn.cc:9261] Unable to register cuDNN factory: Attempting to register factory for plugin cuDNN when one has already been registered\n",
      "2024-10-01 21:58:18.954975: E external/local_xla/xla/stream_executor/cuda/cuda_fft.cc:607] Unable to register cuFFT factory: Attempting to register factory for plugin cuFFT when one has already been registered\n",
      "2024-10-01 21:58:19.100541: E external/local_xla/xla/stream_executor/cuda/cuda_blas.cc:1515] Unable to register cuBLAS factory: Attempting to register factory for plugin cuBLAS when one has already been registered\n"
     ]
    },
    {
     "data": {
      "application/javascript": [
       "parent.postMessage({\"jupyterEvent\": \"custom.exercise_interaction\", \"data\": {\"outcomeType\": 1, \"valueTowardsCompletion\": 0.3333333333333333, \"interactionType\": 1, \"questionType\": 2, \"questionId\": \"1_Q1\", \"learnToolsVersion\": \"0.3.4\", \"failureMessage\": \"\", \"exceptionClass\": \"\", \"trace\": \"\"}}, \"*\")"
      ],
      "text/plain": [
       "<IPython.core.display.Javascript object>"
      ]
     },
     "metadata": {},
     "output_type": "display_data"
    },
    {
     "data": {
      "text/markdown": [
       "<span style=\"color:#33cc33\">Correct</span>"
      ],
      "text/plain": [
       "Correct"
      ]
     },
     "metadata": {},
     "output_type": "display_data"
    }
   ],
   "source": [
    "from tensorflow import keras\n",
    "from tensorflow.keras import layers\n",
    "\n",
    "# YOUR CODE HERE: define the model given in the diagram\n",
    "model = keras.Sequential([\n",
    "    layers.BatchNormalization(),\n",
    "    layers.Dense(256, activation='relu', input_shape=input_shape),\n",
    "    layers.BatchNormalization(),\n",
    "    layers.Dropout(rate=0.3),\n",
    "    layers.Dense(256, activation='relu'),  \n",
    "    layers.BatchNormalization(),\n",
    "    layers.Dropout(rate=0.3),\n",
    "    layers.Dense(1, activation='sigmoid'),\n",
    "])\n",
    "\n",
    "# Check your answer\n",
    "q_1.check()"
   ]
  },
  {
   "cell_type": "markdown",
   "id": "6facf44c",
   "metadata": {
    "papermill": {
     "duration": 0.005884,
     "end_time": "2024-10-01T21:58:31.380306",
     "exception": false,
     "start_time": "2024-10-01T21:58:31.374422",
     "status": "completed"
    },
    "tags": []
   },
   "source": [
    "# 2) Add Optimizer, Loss, and Metric #\n",
    "\n",
    "Now compile the model with the Adam optimizer and binary versions of the cross-entropy loss and accuracy metric."
   ]
  },
  {
   "cell_type": "code",
   "execution_count": 4,
   "id": "a97c3907",
   "metadata": {
    "execution": {
     "iopub.execute_input": "2024-10-01T21:58:31.394933Z",
     "iopub.status.busy": "2024-10-01T21:58:31.394035Z",
     "iopub.status.idle": "2024-10-01T21:58:31.425995Z",
     "shell.execute_reply": "2024-10-01T21:58:31.424826Z"
    },
    "lines_to_next_cell": 0,
    "papermill": {
     "duration": 0.041927,
     "end_time": "2024-10-01T21:58:31.428507",
     "exception": false,
     "start_time": "2024-10-01T21:58:31.386580",
     "status": "completed"
    },
    "tags": []
   },
   "outputs": [
    {
     "data": {
      "application/javascript": [
       "parent.postMessage({\"jupyterEvent\": \"custom.exercise_interaction\", \"data\": {\"outcomeType\": 1, \"valueTowardsCompletion\": 0.3333333333333333, \"interactionType\": 1, \"questionType\": 2, \"questionId\": \"2_Q2\", \"learnToolsVersion\": \"0.3.4\", \"failureMessage\": \"\", \"exceptionClass\": \"\", \"trace\": \"\"}}, \"*\")"
      ],
      "text/plain": [
       "<IPython.core.display.Javascript object>"
      ]
     },
     "metadata": {},
     "output_type": "display_data"
    },
    {
     "data": {
      "text/markdown": [
       "<span style=\"color:#33cc33\">Correct</span>"
      ],
      "text/plain": [
       "Correct"
      ]
     },
     "metadata": {},
     "output_type": "display_data"
    }
   ],
   "source": [
    "# YOUR CODE HERE\n",
    "model.compile(\n",
    "    optimizer='adam',\n",
    "    loss='binary_crossentropy',\n",
    "    metrics=['binary_accuracy'],\n",
    ")\n",
    "\n",
    "# Check your answer\n",
    "q_2.check()"
   ]
  },
  {
   "cell_type": "code",
   "execution_count": 5,
   "id": "d17d8e94",
   "metadata": {
    "execution": {
     "iopub.execute_input": "2024-10-01T21:58:31.443032Z",
     "iopub.status.busy": "2024-10-01T21:58:31.442579Z",
     "iopub.status.idle": "2024-10-01T21:58:31.447328Z",
     "shell.execute_reply": "2024-10-01T21:58:31.446220Z"
    },
    "lines_to_next_cell": 0,
    "papermill": {
     "duration": 0.014905,
     "end_time": "2024-10-01T21:58:31.449780",
     "exception": false,
     "start_time": "2024-10-01T21:58:31.434875",
     "status": "completed"
    },
    "tags": []
   },
   "outputs": [],
   "source": [
    "# Lines below will give you a hint or solution code\n",
    "#q_2.hint()\n",
    "#q_2.solution()"
   ]
  },
  {
   "cell_type": "markdown",
   "id": "c3f9af7c",
   "metadata": {
    "papermill": {
     "duration": 0.006177,
     "end_time": "2024-10-01T21:58:31.462445",
     "exception": false,
     "start_time": "2024-10-01T21:58:31.456268",
     "status": "completed"
    },
    "tags": []
   },
   "source": [
    "Finally, run this cell to train the model and view the learning curves. It may run for around 60 to 70 epochs, which could take a minute or two."
   ]
  },
  {
   "cell_type": "code",
   "execution_count": 6,
   "id": "5978bde9",
   "metadata": {
    "execution": {
     "iopub.execute_input": "2024-10-01T21:58:31.477875Z",
     "iopub.status.busy": "2024-10-01T21:58:31.476995Z",
     "iopub.status.idle": "2024-10-01T22:00:04.397307Z",
     "shell.execute_reply": "2024-10-01T22:00:04.396160Z"
    },
    "papermill": {
     "duration": 92.931009,
     "end_time": "2024-10-01T22:00:04.399955",
     "exception": false,
     "start_time": "2024-10-01T21:58:31.468946",
     "status": "completed"
    },
    "tags": []
   },
   "outputs": [
    {
     "name": "stdout",
     "output_type": "stream",
     "text": [
      "Epoch 1/200\n",
      "175/175 [==============================] - 5s 15ms/step - loss: 0.4778 - binary_accuracy: 0.7750 - val_loss: 0.4300 - val_binary_accuracy: 0.7968\n",
      "Epoch 2/200\n",
      "175/175 [==============================] - 2s 13ms/step - loss: 0.4215 - binary_accuracy: 0.8026 - val_loss: 0.4049 - val_binary_accuracy: 0.8114\n",
      "Epoch 3/200\n",
      "175/175 [==============================] - 2s 13ms/step - loss: 0.4088 - binary_accuracy: 0.8083 - val_loss: 0.3973 - val_binary_accuracy: 0.8160\n",
      "Epoch 4/200\n",
      "175/175 [==============================] - 2s 13ms/step - loss: 0.4020 - binary_accuracy: 0.8113 - val_loss: 0.3908 - val_binary_accuracy: 0.8188\n",
      "Epoch 5/200\n",
      "175/175 [==============================] - 2s 13ms/step - loss: 0.3974 - binary_accuracy: 0.8150 - val_loss: 0.3896 - val_binary_accuracy: 0.8220\n",
      "Epoch 6/200\n",
      "175/175 [==============================] - 2s 13ms/step - loss: 0.3937 - binary_accuracy: 0.8163 - val_loss: 0.3840 - val_binary_accuracy: 0.8231\n",
      "Epoch 7/200\n",
      "175/175 [==============================] - 2s 12ms/step - loss: 0.3872 - binary_accuracy: 0.8187 - val_loss: 0.3877 - val_binary_accuracy: 0.8242\n",
      "Epoch 8/200\n",
      "175/175 [==============================] - 2s 13ms/step - loss: 0.3846 - binary_accuracy: 0.8207 - val_loss: 0.3798 - val_binary_accuracy: 0.8288\n",
      "Epoch 9/200\n",
      "175/175 [==============================] - 2s 14ms/step - loss: 0.3814 - binary_accuracy: 0.8222 - val_loss: 0.3770 - val_binary_accuracy: 0.8288\n",
      "Epoch 10/200\n",
      "175/175 [==============================] - 2s 13ms/step - loss: 0.3789 - binary_accuracy: 0.8232 - val_loss: 0.3749 - val_binary_accuracy: 0.8302\n",
      "Epoch 11/200\n",
      "175/175 [==============================] - 2s 13ms/step - loss: 0.3754 - binary_accuracy: 0.8252 - val_loss: 0.3763 - val_binary_accuracy: 0.8299\n",
      "Epoch 12/200\n",
      "175/175 [==============================] - 2s 13ms/step - loss: 0.3729 - binary_accuracy: 0.8271 - val_loss: 0.3694 - val_binary_accuracy: 0.8303\n",
      "Epoch 13/200\n",
      "175/175 [==============================] - 2s 13ms/step - loss: 0.3716 - binary_accuracy: 0.8283 - val_loss: 0.3688 - val_binary_accuracy: 0.8323\n",
      "Epoch 14/200\n",
      "175/175 [==============================] - 2s 13ms/step - loss: 0.3686 - binary_accuracy: 0.8294 - val_loss: 0.3672 - val_binary_accuracy: 0.8319\n",
      "Epoch 15/200\n",
      "175/175 [==============================] - 2s 13ms/step - loss: 0.3660 - binary_accuracy: 0.8301 - val_loss: 0.3683 - val_binary_accuracy: 0.8315\n",
      "Epoch 16/200\n",
      "175/175 [==============================] - 2s 13ms/step - loss: 0.3650 - binary_accuracy: 0.8310 - val_loss: 0.3677 - val_binary_accuracy: 0.8346\n",
      "Epoch 17/200\n",
      "175/175 [==============================] - 2s 13ms/step - loss: 0.3633 - binary_accuracy: 0.8304 - val_loss: 0.3672 - val_binary_accuracy: 0.8323\n",
      "Epoch 18/200\n",
      "175/175 [==============================] - 2s 13ms/step - loss: 0.3618 - binary_accuracy: 0.8317 - val_loss: 0.3656 - val_binary_accuracy: 0.8347\n",
      "Epoch 19/200\n",
      "175/175 [==============================] - 2s 13ms/step - loss: 0.3606 - binary_accuracy: 0.8320 - val_loss: 0.3639 - val_binary_accuracy: 0.8347\n",
      "Epoch 20/200\n",
      "175/175 [==============================] - 2s 13ms/step - loss: 0.3588 - binary_accuracy: 0.8336 - val_loss: 0.3651 - val_binary_accuracy: 0.8350\n",
      "Epoch 21/200\n",
      "175/175 [==============================] - 2s 13ms/step - loss: 0.3584 - binary_accuracy: 0.8343 - val_loss: 0.3613 - val_binary_accuracy: 0.8355\n",
      "Epoch 22/200\n",
      "175/175 [==============================] - 2s 13ms/step - loss: 0.3558 - binary_accuracy: 0.8353 - val_loss: 0.3617 - val_binary_accuracy: 0.8359\n",
      "Epoch 23/200\n",
      "175/175 [==============================] - 2s 14ms/step - loss: 0.3538 - binary_accuracy: 0.8357 - val_loss: 0.3627 - val_binary_accuracy: 0.8359\n",
      "Epoch 24/200\n",
      "175/175 [==============================] - 2s 13ms/step - loss: 0.3538 - binary_accuracy: 0.8370 - val_loss: 0.3594 - val_binary_accuracy: 0.8375\n",
      "Epoch 25/200\n",
      "175/175 [==============================] - 2s 13ms/step - loss: 0.3521 - binary_accuracy: 0.8380 - val_loss: 0.3596 - val_binary_accuracy: 0.8373\n",
      "Epoch 26/200\n",
      "175/175 [==============================] - 2s 13ms/step - loss: 0.3495 - binary_accuracy: 0.8381 - val_loss: 0.3594 - val_binary_accuracy: 0.8381\n",
      "Epoch 27/200\n",
      "175/175 [==============================] - 2s 13ms/step - loss: 0.3509 - binary_accuracy: 0.8381 - val_loss: 0.3588 - val_binary_accuracy: 0.8377\n",
      "Epoch 28/200\n",
      "175/175 [==============================] - 2s 13ms/step - loss: 0.3486 - binary_accuracy: 0.8383 - val_loss: 0.3578 - val_binary_accuracy: 0.8391\n",
      "Epoch 29/200\n",
      "175/175 [==============================] - 2s 13ms/step - loss: 0.3468 - binary_accuracy: 0.8397 - val_loss: 0.3586 - val_binary_accuracy: 0.8377\n",
      "Epoch 30/200\n",
      "175/175 [==============================] - 2s 13ms/step - loss: 0.3471 - binary_accuracy: 0.8394 - val_loss: 0.3586 - val_binary_accuracy: 0.8404\n",
      "Epoch 31/200\n",
      "175/175 [==============================] - 2s 13ms/step - loss: 0.3453 - binary_accuracy: 0.8396 - val_loss: 0.3565 - val_binary_accuracy: 0.8403\n",
      "Epoch 32/200\n",
      "175/175 [==============================] - 2s 13ms/step - loss: 0.3449 - binary_accuracy: 0.8407 - val_loss: 0.3564 - val_binary_accuracy: 0.8393\n",
      "Epoch 33/200\n",
      "175/175 [==============================] - 2s 13ms/step - loss: 0.3432 - binary_accuracy: 0.8408 - val_loss: 0.3572 - val_binary_accuracy: 0.8373\n",
      "Epoch 34/200\n",
      "175/175 [==============================] - 2s 13ms/step - loss: 0.3434 - binary_accuracy: 0.8409 - val_loss: 0.3534 - val_binary_accuracy: 0.8403\n",
      "Epoch 35/200\n",
      "175/175 [==============================] - 2s 13ms/step - loss: 0.3420 - binary_accuracy: 0.8414 - val_loss: 0.3543 - val_binary_accuracy: 0.8394\n",
      "Epoch 36/200\n",
      "175/175 [==============================] - 2s 13ms/step - loss: 0.3406 - binary_accuracy: 0.8427 - val_loss: 0.3554 - val_binary_accuracy: 0.8399\n",
      "Epoch 37/200\n",
      "175/175 [==============================] - 3s 15ms/step - loss: 0.3400 - binary_accuracy: 0.8429 - val_loss: 0.3541 - val_binary_accuracy: 0.8413\n",
      "Epoch 38/200\n",
      "175/175 [==============================] - 2s 13ms/step - loss: 0.3400 - binary_accuracy: 0.8428 - val_loss: 0.3561 - val_binary_accuracy: 0.8405\n",
      "Epoch 39/200\n",
      "175/175 [==============================] - 2s 13ms/step - loss: 0.3388 - binary_accuracy: 0.8440 - val_loss: 0.3579 - val_binary_accuracy: 0.8384\n"
     ]
    },
    {
     "data": {
      "text/plain": [
       "<Axes: title={'center': 'Accuracy'}>"
      ]
     },
     "execution_count": 6,
     "metadata": {},
     "output_type": "execute_result"
    },
    {
     "data": {
      "image/png": "[encoded data removed]",
      "text/plain": [
       "<Figure size 640x480 with 1 Axes>"
      ]
     },
     "metadata": {},
     "output_type": "display_data"
    },
    {
     "data": {
      "image/png": "[encoded data removed]",
      "text/plain": [
       "<Figure size 640x480 with 1 Axes>"
      ]
     },
     "metadata": {},
     "output_type": "display_data"
    }
   ],
   "source": [
    "early_stopping = keras.callbacks.EarlyStopping(\n",
    "    patience=5,\n",
    "    min_delta=0.001,\n",
    "    restore_best_weights=True,\n",
    ")\n",
    "history = model.fit(\n",
    "    X_train, y_train,\n",
    "    validation_data=(X_valid, y_valid),\n",
    "    batch_size=512,\n",
    "    epochs=200,\n",
    "    callbacks=[early_stopping],\n",
    ")\n",
    "\n",
    "history_df = pd.DataFrame(history.history)\n",
    "history_df.loc[:, ['loss', 'val_loss']].plot(title=\"Cross-entropy\")\n",
    "history_df.loc[:, ['binary_accuracy', 'val_binary_accuracy']].plot(title=\"Accuracy\")"
   ]
  },
  {
   "cell_type": "markdown",
   "id": "c51d9493",
   "metadata": {
    "papermill": {
     "duration": 0.150699,
     "end_time": "2024-10-01T22:00:04.699740",
     "exception": false,
     "start_time": "2024-10-01T22:00:04.549041",
     "status": "completed"
    },
    "tags": []
   },
   "source": [
    "# 3) Train and Evaluate #\n",
    "\n",
    "\n",
    "What do you think about the learning curves? Does it look like the model underfit or overfit? Was the cross-entropy loss a good stand-in for accuracy?"
   ]
  },
  {
   "cell_type": "code",
   "execution_count": 7,
   "id": "904dae16",
   "metadata": {
    "execution": {
     "iopub.execute_input": "2024-10-01T22:00:05.065772Z",
     "iopub.status.busy": "2024-10-01T22:00:05.065332Z",
     "iopub.status.idle": "2024-10-01T22:00:05.075534Z",
     "shell.execute_reply": "2024-10-01T22:00:05.074259Z"
    },
    "papermill": {
     "duration": 0.162469,
     "end_time": "2024-10-01T22:00:05.077940",
     "exception": false,
     "start_time": "2024-10-01T22:00:04.915471",
     "status": "completed"
    },
    "tags": []
   },
   "outputs": [
    {
     "data": {
      "application/javascript": [
       "parent.postMessage({\"jupyterEvent\": \"custom.exercise_interaction\", \"data\": {\"outcomeType\": 1, \"valueTowardsCompletion\": 0.3333333333333333, \"interactionType\": 1, \"questionType\": 4, \"questionId\": \"3_Q3\", \"learnToolsVersion\": \"0.3.4\", \"failureMessage\": \"\", \"exceptionClass\": \"\", \"trace\": \"\"}}, \"*\")"
      ],
      "text/plain": [
       "<IPython.core.display.Javascript object>"
      ]
     },
     "metadata": {},
     "output_type": "display_data"
    },
    {
     "data": {
      "text/markdown": [
       "<span style=\"color:#33cc33\">Correct:</span> \n",
       "\n",
       "Though we can see the training loss continuing to fall, the early stopping callback prevented any overfitting. Moreover, the accuracy rose at the same rate as the cross-entropy fell, so it appears that minimizing cross-entropy was a good stand-in. All in all, it looks like this training was a success!"
      ],
      "text/plain": [
       "Correct: \n",
       "\n",
       "Though we can see the training loss continuing to fall, the early stopping callback prevented any overfitting. Moreover, the accuracy rose at the same rate as the cross-entropy fell, so it appears that minimizing cross-entropy was a good stand-in. All in all, it looks like this training was a success!"
      ]
     },
     "metadata": {},
     "output_type": "display_data"
    }
   ],
   "source": [
    "# View the solution (Run this cell to receive credit!)\n",
    "q_3.check()"
   ]
  },
  {
   "cell_type": "markdown",
   "id": "8361dde8",
   "metadata": {
    "papermill": {
     "duration": 0.149903,
     "end_time": "2024-10-01T22:00:05.376789",
     "exception": false,
     "start_time": "2024-10-01T22:00:05.226886",
     "status": "completed"
    },
    "tags": []
   },
   "source": [
    "# Conclusion #\n",
    "\n",
    "Congratulations! You've completed Kaggle's *Introduction to Deep Learning* course!\n",
    "\n",
    "With your new skills you're ready to take on more advanced applications like computer vision and sentiment classification. What would you like to do next?\n",
    "\n",
    "Why not try one of our *Getting Started* competitions?\n",
    "\n",
    "- Classify images with TPUs in [**Petals to the Metal**](https://www.kaggle.com/c/tpu-getting-started)\n",
    "- Create art with GANs in [**I'm Something of a Painter Myself**](https://www.kaggle.com/c/gan-getting-started)\n",
    "- Classify Tweets in [**Real or Not? NLP with Disaster Tweets**](https://www.kaggle.com/c/nlp-getting-started)\n",
    "- Detect contradiction and entailment in [**Contradictory, My Dear Watson**](https://www.kaggle.com/c/contradictory-my-dear-watson)\n",
    "\n",
    "Until next time, Kagglers!"
   ]
  },
  {
   "cell_type": "markdown",
   "id": "1497fa4a",
   "metadata": {
    "papermill": {
     "duration": 0.149534,
     "end_time": "2024-10-01T22:00:05.676453",
     "exception": false,
     "start_time": "2024-10-01T22:00:05.526919",
     "status": "completed"
    },
    "tags": []
   },
   "source": [
    "---\n",
    "\n",
    "\n",
    "\n",
    "\n",
    "*Have questions or comments? Visit the [course discussion forum](https://www.kaggle.com/learn/intro-to-deep-learning/discussion) to chat with other learners.*"
   ]
  }
 ],
 "metadata": {
  "jupytext": {
   "cell_metadata_filter": "-all",
   "formats": "ipynb"
  },
  "kaggle": {
   "accelerator": "gpu",
   "dataSources": [
    {
     "datasetId": 829369,
     "sourceId": 1480608,
     "sourceType": "datasetVersion"
    }
   ],
   "dockerImageVersionId": 30648,
   "isGpuEnabled": true,
   "isInternetEnabled": false,
   "language": "python",
   "sourceType": "notebook"
  },
  "kernelspec": {
   "display_name": "Python 3",
   "language": "python",
   "name": "python3"
  },
  "language_info": {
   "codemirror_mode": {
    "name": "ipython",
    "version": 3
   },
   "file_extension": ".py",
   "mimetype": "text/x-python",
   "name": "python",
   "nbconvert_exporter": "python",
   "pygments_lexer": "ipython3",
   "version": "3.10.13"
  },
  "papermill": {
   "default_parameters": {},
   "duration": 118.369634,
   "end_time": "2024-10-01T22:00:07.653963",
   "environment_variables": {},
   "exception": null,
   "input_path": "__notebook__.ipynb",
   "output_path": "__notebook__.ipynb",
   "parameters": {},
   "start_time": "2024-10-01T21:58:09.284329",
   "version": "2.5.0"
  }
 },
 "nbformat": 4,
 "nbformat_minor": 5
}
