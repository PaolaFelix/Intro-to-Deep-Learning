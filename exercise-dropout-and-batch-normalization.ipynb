{
 "cells": [
  {
   "cell_type": "markdown",
   "id": "49cc3c42",
   "metadata": {
    "papermill": {
     "duration": 0.008266,
     "end_time": "2024-10-01T21:31:38.333312",
     "exception": false,
     "start_time": "2024-10-01T21:31:38.325046",
     "status": "completed"
    },
    "tags": []
   },
   "source": [
    "**This notebook is an exercise in the [Intro to Deep Learning](https://www.kaggle.com/learn/intro-to-deep-learning) course.  You can reference the tutorial at [this link](https://www.kaggle.com/ryanholbrook/dropout-and-batch-normalization).**\n",
    "\n",
    "---\n"
   ]
  },
  {
   "cell_type": "markdown",
   "id": "a6fb8c75",
   "metadata": {
    "papermill": {
     "duration": 0.007392,
     "end_time": "2024-10-01T21:31:38.348568",
     "exception": false,
     "start_time": "2024-10-01T21:31:38.341176",
     "status": "completed"
    },
    "tags": []
   },
   "source": [
    "# Introduction #\n",
    "\n",
    "In this exercise, you'll add dropout to the *Spotify* model from Exercise 4 and see how batch normalization can let you successfully train models on difficult datasets.\n",
    "\n",
    "Run the next cell to get started!"
   ]
  },
  {
   "cell_type": "code",
   "execution_count": 1,
   "id": "d5528945",
   "metadata": {
    "execution": {
     "iopub.execute_input": "2024-10-01T21:31:38.366133Z",
     "iopub.status.busy": "2024-10-01T21:31:38.365677Z",
     "iopub.status.idle": "2024-10-01T21:31:39.399936Z",
     "shell.execute_reply": "2024-10-01T21:31:39.398770Z"
    },
    "papermill": {
     "duration": 1.046489,
     "end_time": "2024-10-01T21:31:39.402965",
     "exception": false,
     "start_time": "2024-10-01T21:31:38.356476",
     "status": "completed"
    },
    "tags": []
   },
   "outputs": [
    {
     "name": "stderr",
     "output_type": "stream",
     "text": [
      "/tmp/ipykernel_18/195640296.py:3: MatplotlibDeprecationWarning: The seaborn styles shipped by Matplotlib are deprecated since 3.6, as they no longer correspond to the styles shipped by seaborn. However, they will remain available as 'seaborn-v0_8-<style>'. Alternatively, directly use the seaborn API instead.\n",
      "  plt.style.use('seaborn-whitegrid')\n"
     ]
    }
   ],
   "source": [
    "# Setup plotting\n",
    "import matplotlib.pyplot as plt\n",
    "plt.style.use('seaborn-whitegrid')\n",
    "# Set Matplotlib defaults\n",
    "plt.rc('figure', autolayout=True)\n",
    "plt.rc('axes', labelweight='bold', labelsize='large',\n",
    "       titleweight='bold', titlesize=18, titlepad=10)\n",
    "plt.rc('animation', html='html5')\n",
    "\n",
    "# Setup feedback system\n",
    "from learntools.core import binder\n",
    "binder.bind(globals())\n",
    "from learntools.deep_learning_intro.ex5 import *"
   ]
  },
  {
   "cell_type": "markdown",
   "id": "2aa855be",
   "metadata": {
    "papermill": {
     "duration": 0.007537,
     "end_time": "2024-10-01T21:31:39.418664",
     "exception": false,
     "start_time": "2024-10-01T21:31:39.411127",
     "status": "completed"
    },
    "tags": []
   },
   "source": [
    "First load the *Spotify* dataset."
   ]
  },
  {
   "cell_type": "code",
   "execution_count": 2,
   "id": "545fa176",
   "metadata": {
    "execution": {
     "iopub.execute_input": "2024-10-01T21:31:39.438043Z",
     "iopub.status.busy": "2024-10-01T21:31:39.437496Z",
     "iopub.status.idle": "2024-10-01T21:31:57.014944Z",
     "shell.execute_reply": "2024-10-01T21:31:57.013511Z"
    },
    "papermill": {
     "duration": 17.589678,
     "end_time": "2024-10-01T21:31:57.017725",
     "exception": false,
     "start_time": "2024-10-01T21:31:39.428047",
     "status": "completed"
    },
    "tags": []
   },
   "outputs": [
    {
     "name": "stderr",
     "output_type": "stream",
     "text": [
      "2024-10-01 21:31:43.433131: E external/local_xla/xla/stream_executor/cuda/cuda_dnn.cc:9261] Unable to register cuDNN factory: Attempting to register factory for plugin cuDNN when one has already been registered\n",
      "2024-10-01 21:31:43.433283: E external/local_xla/xla/stream_executor/cuda/cuda_fft.cc:607] Unable to register cuFFT factory: Attempting to register factory for plugin cuFFT when one has already been registered\n",
      "2024-10-01 21:31:43.602270: E external/local_xla/xla/stream_executor/cuda/cuda_blas.cc:1515] Unable to register cuBLAS factory: Attempting to register factory for plugin cuBLAS when one has already been registered\n"
     ]
    },
    {
     "name": "stdout",
     "output_type": "stream",
     "text": [
      "Input shape: [18]\n"
     ]
    }
   ],
   "source": [
    "import pandas as pd\n",
    "from sklearn.preprocessing import StandardScaler, OneHotEncoder\n",
    "from sklearn.compose import make_column_transformer\n",
    "from sklearn.model_selection import GroupShuffleSplit\n",
    "\n",
    "from tensorflow import keras\n",
    "from tensorflow.keras import layers\n",
    "from tensorflow.keras import callbacks\n",
    "\n",
    "spotify = pd.read_csv('../input/dl-course-data/spotify.csv')\n",
    "\n",
    "X = spotify.copy().dropna()\n",
    "y = X.pop('track_popularity')\n",
    "artists = X['track_artist']\n",
    "\n",
    "features_num = ['danceability', 'energy', 'key', 'loudness', 'mode',\n",
    "                'speechiness', 'acousticness', 'instrumentalness',\n",
    "                'liveness', 'valence', 'tempo', 'duration_ms']\n",
    "features_cat = ['playlist_genre']\n",
    "\n",
    "preprocessor = make_column_transformer(\n",
    "    (StandardScaler(), features_num),\n",
    "    (OneHotEncoder(), features_cat),\n",
    ")\n",
    "\n",
    "def group_split(X, y, group, train_size=0.75):\n",
    "    splitter = GroupShuffleSplit(train_size=train_size)\n",
    "    train, test = next(splitter.split(X, y, groups=group))\n",
    "    return (X.iloc[train], X.iloc[test], y.iloc[train], y.iloc[test])\n",
    "\n",
    "X_train, X_valid, y_train, y_valid = group_split(X, y, artists)\n",
    "\n",
    "X_train = preprocessor.fit_transform(X_train)\n",
    "X_valid = preprocessor.transform(X_valid)\n",
    "y_train = y_train / 100\n",
    "y_valid = y_valid / 100\n",
    "\n",
    "input_shape = [X_train.shape[1]]\n",
    "print(\"Input shape: {}\".format(input_shape))"
   ]
  },
  {
   "cell_type": "markdown",
   "id": "6f04f0d7",
   "metadata": {
    "papermill": {
     "duration": 0.007859,
     "end_time": "2024-10-01T21:31:57.033983",
     "exception": false,
     "start_time": "2024-10-01T21:31:57.026124",
     "status": "completed"
    },
    "tags": []
   },
   "source": [
    "# 1) Add Dropout to Spotify Model\n",
    "\n",
    "Here is the last model from Exercise 4. Add two dropout layers, one after the `Dense` layer with 128 units, and one after the `Dense` layer with 64 units. Set the dropout rate on both to `0.3`."
   ]
  },
  {
   "cell_type": "code",
   "execution_count": 3,
   "id": "f68a62f4",
   "metadata": {
    "execution": {
     "iopub.execute_input": "2024-10-01T21:31:57.052241Z",
     "iopub.status.busy": "2024-10-01T21:31:57.051828Z",
     "iopub.status.idle": "2024-10-01T21:31:57.201920Z",
     "shell.execute_reply": "2024-10-01T21:31:57.200820Z"
    },
    "lines_to_next_cell": 2,
    "papermill": {
     "duration": 0.162482,
     "end_time": "2024-10-01T21:31:57.204680",
     "exception": false,
     "start_time": "2024-10-01T21:31:57.042198",
     "status": "completed"
    },
    "tags": []
   },
   "outputs": [
    {
     "data": {
      "application/javascript": [
       "parent.postMessage({\"jupyterEvent\": \"custom.exercise_interaction\", \"data\": {\"outcomeType\": 1, \"valueTowardsCompletion\": 0.25, \"interactionType\": 1, \"questionType\": 2, \"questionId\": \"1_Q1\", \"learnToolsVersion\": \"0.3.4\", \"failureMessage\": \"\", \"exceptionClass\": \"\", \"trace\": \"\"}}, \"*\")"
      ],
      "text/plain": [
       "<IPython.core.display.Javascript object>"
      ]
     },
     "metadata": {},
     "output_type": "display_data"
    },
    {
     "data": {
      "text/markdown": [
       "<span style=\"color:#33cc33\">Correct</span>"
      ],
      "text/plain": [
       "Correct"
      ]
     },
     "metadata": {},
     "output_type": "display_data"
    }
   ],
   "source": [
    "# YOUR CODE HERE: Add two 30% dropout layers, one after 128 and one after 64\n",
    "model = keras.Sequential([\n",
    "    layers.Dense(128, activation='relu', input_shape=input_shape),\n",
    "    layers.Dropout(0.3),\n",
    "    layers.Dense(64, activation='relu'),\n",
    "    layers.Dropout(0.3),\n",
    "    layers.Dense(1)\n",
    "])\n",
    "\n",
    "# Check your answer\n",
    "q_1.check()"
   ]
  },
  {
   "cell_type": "code",
   "execution_count": 4,
   "id": "07179c24",
   "metadata": {
    "execution": {
     "iopub.execute_input": "2024-10-01T21:31:57.223255Z",
     "iopub.status.busy": "2024-10-01T21:31:57.222810Z",
     "iopub.status.idle": "2024-10-01T21:31:57.228005Z",
     "shell.execute_reply": "2024-10-01T21:31:57.226789Z"
    },
    "papermill": {
     "duration": 0.017677,
     "end_time": "2024-10-01T21:31:57.230714",
     "exception": false,
     "start_time": "2024-10-01T21:31:57.213037",
     "status": "completed"
    },
    "tags": []
   },
   "outputs": [],
   "source": [
    "# Lines below will give you a hint or solution code\n",
    "#q_1.hint()\n",
    "#q_1.solution()"
   ]
  },
  {
   "cell_type": "markdown",
   "id": "109b607f",
   "metadata": {
    "papermill": {
     "duration": 0.008078,
     "end_time": "2024-10-01T21:31:57.247160",
     "exception": false,
     "start_time": "2024-10-01T21:31:57.239082",
     "status": "completed"
    },
    "tags": []
   },
   "source": [
    "Now run this next cell to train the model see the effect of adding dropout."
   ]
  },
  {
   "cell_type": "code",
   "execution_count": 5,
   "id": "03d92ddc",
   "metadata": {
    "execution": {
     "iopub.execute_input": "2024-10-01T21:31:57.265592Z",
     "iopub.status.busy": "2024-10-01T21:31:57.265141Z",
     "iopub.status.idle": "2024-10-01T21:32:11.028041Z",
     "shell.execute_reply": "2024-10-01T21:32:11.026753Z"
    },
    "papermill": {
     "duration": 13.775525,
     "end_time": "2024-10-01T21:32:11.031127",
     "exception": false,
     "start_time": "2024-10-01T21:31:57.255602",
     "status": "completed"
    },
    "tags": []
   },
   "outputs": [
    {
     "name": "stdout",
     "output_type": "stream",
     "text": [
      "Minimum Validation Loss: 0.1964\n"
     ]
    },
    {
     "data": {
      "image/png": "[encoded data removed]",
      "text/plain": [
       "<Figure size 640x480 with 1 Axes>"
      ]
     },
     "metadata": {},
     "output_type": "display_data"
    }
   ],
   "source": [
    "model.compile(\n",
    "    optimizer='adam',\n",
    "    loss='mae',\n",
    ")\n",
    "history = model.fit(\n",
    "    X_train, y_train,\n",
    "    validation_data=(X_valid, y_valid),\n",
    "    batch_size=512,\n",
    "    epochs=50,\n",
    "    verbose=0,\n",
    ")\n",
    "history_df = pd.DataFrame(history.history)\n",
    "history_df.loc[:, ['loss', 'val_loss']].plot()\n",
    "print(\"Minimum Validation Loss: {:0.4f}\".format(history_df['val_loss'].min()))"
   ]
  },
  {
   "cell_type": "markdown",
   "id": "3eca9275",
   "metadata": {
    "papermill": {
     "duration": 0.008811,
     "end_time": "2024-10-01T21:32:11.050094",
     "exception": false,
     "start_time": "2024-10-01T21:32:11.041283",
     "status": "completed"
    },
    "tags": []
   },
   "source": [
    "# 2) Evaluate Dropout\n",
    "\n",
    "Recall from Exercise 4 that this model tended to overfit the data around epoch 5. Did adding dropout seem to help prevent overfitting this time?"
   ]
  },
  {
   "cell_type": "code",
   "execution_count": 6,
   "id": "9bc28245",
   "metadata": {
    "execution": {
     "iopub.execute_input": "2024-10-01T21:32:11.070565Z",
     "iopub.status.busy": "2024-10-01T21:32:11.069578Z",
     "iopub.status.idle": "2024-10-01T21:32:11.079190Z",
     "shell.execute_reply": "2024-10-01T21:32:11.078055Z"
    },
    "papermill": {
     "duration": 0.022549,
     "end_time": "2024-10-01T21:32:11.081778",
     "exception": false,
     "start_time": "2024-10-01T21:32:11.059229",
     "status": "completed"
    },
    "tags": []
   },
   "outputs": [
    {
     "data": {
      "application/javascript": [
       "parent.postMessage({\"jupyterEvent\": \"custom.exercise_interaction\", \"data\": {\"outcomeType\": 1, \"valueTowardsCompletion\": 0.25, \"interactionType\": 1, \"questionType\": 4, \"questionId\": \"2_Q2\", \"learnToolsVersion\": \"0.3.4\", \"failureMessage\": \"\", \"exceptionClass\": \"\", \"trace\": \"\"}}, \"*\")"
      ],
      "text/plain": [
       "<IPython.core.display.Javascript object>"
      ]
     },
     "metadata": {},
     "output_type": "display_data"
    },
    {
     "data": {
      "text/markdown": [
       "<span style=\"color:#33cc33\">Correct:</span> \n",
       "\n",
       "\n",
       "From the learning curves, you can see that the validation loss remains near a constant minimum even though the training loss continues to decrease. So we can see that adding dropout did prevent overfitting this time. Moreover, by making it harder for the network to fit spurious patterns, dropout may have encouraged the network to seek out more of the true patterns, possibly improving the validation loss some as well).\n"
      ],
      "text/plain": [
       "Correct: \n",
       "\n",
       "\n",
       "From the learning curves, you can see that the validation loss remains near a constant minimum even though the training loss continues to decrease. So we can see that adding dropout did prevent overfitting this time. Moreover, by making it harder for the network to fit spurious patterns, dropout may have encouraged the network to seek out more of the true patterns, possibly improving the validation loss some as well)."
      ]
     },
     "metadata": {},
     "output_type": "display_data"
    }
   ],
   "source": [
    "# View the solution (Run this cell to receive credit!)\n",
    "q_2.check()"
   ]
  },
  {
   "cell_type": "markdown",
   "id": "66f99df1",
   "metadata": {
    "papermill": {
     "duration": 0.009151,
     "end_time": "2024-10-01T21:32:11.100766",
     "exception": false,
     "start_time": "2024-10-01T21:32:11.091615",
     "status": "completed"
    },
    "tags": []
   },
   "source": [
    "Now, we'll switch topics to explore how batch normalization can fix problems in training.\n",
    "\n",
    "Load the *Concrete* dataset. We won't do any standardization this time. This will make the effect of batch normalization much more apparent."
   ]
  },
  {
   "cell_type": "code",
   "execution_count": 7,
   "id": "537eff1e",
   "metadata": {
    "execution": {
     "iopub.execute_input": "2024-10-01T21:32:11.121080Z",
     "iopub.status.busy": "2024-10-01T21:32:11.120674Z",
     "iopub.status.idle": "2024-10-01T21:32:11.143528Z",
     "shell.execute_reply": "2024-10-01T21:32:11.142317Z"
    },
    "papermill": {
     "duration": 0.036315,
     "end_time": "2024-10-01T21:32:11.146316",
     "exception": false,
     "start_time": "2024-10-01T21:32:11.110001",
     "status": "completed"
    },
    "tags": []
   },
   "outputs": [],
   "source": [
    "import pandas as pd\n",
    "\n",
    "concrete = pd.read_csv('../input/dl-course-data/concrete.csv')\n",
    "df = concrete.copy()\n",
    "\n",
    "df_train = df.sample(frac=0.7, random_state=0)\n",
    "df_valid = df.drop(df_train.index)\n",
    "\n",
    "X_train = df_train.drop('CompressiveStrength', axis=1)\n",
    "X_valid = df_valid.drop('CompressiveStrength', axis=1)\n",
    "y_train = df_train['CompressiveStrength']\n",
    "y_valid = df_valid['CompressiveStrength']\n",
    "\n",
    "input_shape = [X_train.shape[1]]"
   ]
  },
  {
   "cell_type": "markdown",
   "id": "1bb8ced5",
   "metadata": {
    "papermill": {
     "duration": 0.009013,
     "end_time": "2024-10-01T21:32:11.164870",
     "exception": false,
     "start_time": "2024-10-01T21:32:11.155857",
     "status": "completed"
    },
    "tags": []
   },
   "source": [
    "Run the following cell to train the network on the unstandardized *Concrete* data."
   ]
  },
  {
   "cell_type": "code",
   "execution_count": 8,
   "id": "7ea1c31b",
   "metadata": {
    "execution": {
     "iopub.execute_input": "2024-10-01T21:32:11.185377Z",
     "iopub.status.busy": "2024-10-01T21:32:11.184953Z",
     "iopub.status.idle": "2024-10-01T21:32:23.012499Z",
     "shell.execute_reply": "2024-10-01T21:32:23.011281Z"
    },
    "papermill": {
     "duration": 11.840857,
     "end_time": "2024-10-01T21:32:23.015167",
     "exception": false,
     "start_time": "2024-10-01T21:32:11.174310",
     "status": "completed"
    },
    "tags": []
   },
   "outputs": [
    {
     "name": "stdout",
     "output_type": "stream",
     "text": [
      "Minimum Validation Loss: nan\n"
     ]
    },
    {
     "data": {
      "image/png": "[encoded data removed]",
      "text/plain": [
       "<Figure size 640x480 with 1 Axes>"
      ]
     },
     "metadata": {},
     "output_type": "display_data"
    }
   ],
   "source": [
    "model = keras.Sequential([\n",
    "    layers.Dense(512, activation='relu', input_shape=input_shape),\n",
    "    layers.Dense(512, activation='relu'),    \n",
    "    layers.Dense(512, activation='relu'),\n",
    "    layers.Dense(1),\n",
    "])\n",
    "model.compile(\n",
    "    optimizer='sgd', # SGD is more sensitive to differences of scale\n",
    "    loss='mae',\n",
    "    metrics=['mae'],\n",
    ")\n",
    "history = model.fit(\n",
    "    X_train, y_train,\n",
    "    validation_data=(X_valid, y_valid),\n",
    "    batch_size=64,\n",
    "    epochs=100,\n",
    "    verbose=0,\n",
    ")\n",
    "\n",
    "history_df = pd.DataFrame(history.history)\n",
    "history_df.loc[0:, ['loss', 'val_loss']].plot()\n",
    "print((\"Minimum Validation Loss: {:0.4f}\").format(history_df['val_loss'].min()))"
   ]
  },
  {
   "cell_type": "markdown",
   "id": "26df519b",
   "metadata": {
    "papermill": {
     "duration": 0.009425,
     "end_time": "2024-10-01T21:32:23.034521",
     "exception": false,
     "start_time": "2024-10-01T21:32:23.025096",
     "status": "completed"
    },
    "tags": []
   },
   "source": [
    "Did you end up with a blank graph? Trying to train this network on this dataset will usually fail. Even when it does converge (due to a lucky weight initialization), it tends to converge to a very large number.\n",
    "\n",
    "# 3) Add Batch Normalization Layers\n",
    "\n",
    "Batch normalization can help correct problems like this.\n",
    "\n",
    "Add four `BatchNormalization` layers, one before each of the dense layers. (Remember to move the `input_shape` argument to the new first layer.)"
   ]
  },
  {
   "cell_type": "code",
   "execution_count": 9,
   "id": "8b8f2af0",
   "metadata": {
    "execution": {
     "iopub.execute_input": "2024-10-01T21:32:23.056235Z",
     "iopub.status.busy": "2024-10-01T21:32:23.055794Z",
     "iopub.status.idle": "2024-10-01T21:32:23.226889Z",
     "shell.execute_reply": "2024-10-01T21:32:23.225686Z"
    },
    "lines_to_next_cell": 0,
    "papermill": {
     "duration": 0.185067,
     "end_time": "2024-10-01T21:32:23.229245",
     "exception": false,
     "start_time": "2024-10-01T21:32:23.044178",
     "status": "completed"
    },
    "tags": []
   },
   "outputs": [
    {
     "data": {
      "application/javascript": [
       "parent.postMessage({\"jupyterEvent\": \"custom.exercise_interaction\", \"data\": {\"outcomeType\": 1, \"valueTowardsCompletion\": 0.25, \"interactionType\": 1, \"questionType\": 2, \"questionId\": \"3_Q3\", \"learnToolsVersion\": \"0.3.4\", \"failureMessage\": \"\", \"exceptionClass\": \"\", \"trace\": \"\"}}, \"*\")"
      ],
      "text/plain": [
       "<IPython.core.display.Javascript object>"
      ]
     },
     "metadata": {},
     "output_type": "display_data"
    },
    {
     "data": {
      "text/markdown": [
       "<span style=\"color:#33cc33\">Correct</span>"
      ],
      "text/plain": [
       "Correct"
      ]
     },
     "metadata": {},
     "output_type": "display_data"
    }
   ],
   "source": [
    "# YOUR CODE HERE: Add a BatchNormalization layer before each Dense layer\n",
    "model = keras.Sequential([\n",
    "    layers.BatchNormalization(input_shape=input_shape),\n",
    "    layers.Dense(512, activation='relu'),\n",
    "    layers.BatchNormalization(),\n",
    "    layers.Dense(512, activation='relu'),\n",
    "    layers.BatchNormalization(),\n",
    "    layers.Dense(512, activation='relu'),\n",
    "    layers.BatchNormalization(),\n",
    "    layers.Dense(1),\n",
    "])\n",
    "\n",
    "# Check your answer\n",
    "q_3.check()"
   ]
  },
  {
   "cell_type": "code",
   "execution_count": 10,
   "id": "e9b8c9fb",
   "metadata": {
    "execution": {
     "iopub.execute_input": "2024-10-01T21:32:23.252287Z",
     "iopub.status.busy": "2024-10-01T21:32:23.251489Z",
     "iopub.status.idle": "2024-10-01T21:32:23.256298Z",
     "shell.execute_reply": "2024-10-01T21:32:23.255205Z"
    },
    "papermill": {
     "duration": 0.01913,
     "end_time": "2024-10-01T21:32:23.258901",
     "exception": false,
     "start_time": "2024-10-01T21:32:23.239771",
     "status": "completed"
    },
    "tags": []
   },
   "outputs": [],
   "source": [
    "# Lines below will give you a hint or solution code\n",
    "#q_3.hint()\n",
    "#q_3.solution()"
   ]
  },
  {
   "cell_type": "markdown",
   "id": "3a66d8b0",
   "metadata": {
    "papermill": {
     "duration": 0.009755,
     "end_time": "2024-10-01T21:32:23.279008",
     "exception": false,
     "start_time": "2024-10-01T21:32:23.269253",
     "status": "completed"
    },
    "tags": []
   },
   "source": [
    "Run the next cell to see if batch normalization will let us train the model."
   ]
  },
  {
   "cell_type": "code",
   "execution_count": 11,
   "id": "6c8ad24d",
   "metadata": {
    "execution": {
     "iopub.execute_input": "2024-10-01T21:32:23.301250Z",
     "iopub.status.busy": "2024-10-01T21:32:23.300877Z",
     "iopub.status.idle": "2024-10-01T21:32:38.072273Z",
     "shell.execute_reply": "2024-10-01T21:32:38.070879Z"
    },
    "papermill": {
     "duration": 14.785361,
     "end_time": "2024-10-01T21:32:38.074892",
     "exception": false,
     "start_time": "2024-10-01T21:32:23.289531",
     "status": "completed"
    },
    "tags": []
   },
   "outputs": [
    {
     "name": "stdout",
     "output_type": "stream",
     "text": [
      "Minimum Validation Loss: 4.0955\n"
     ]
    },
    {
     "data": {
      "image/png": "[encoded data removed]",
      "text/plain": [
       "<Figure size 640x480 with 1 Axes>"
      ]
     },
     "metadata": {},
     "output_type": "display_data"
    }
   ],
   "source": [
    "model.compile(\n",
    "    optimizer='sgd',\n",
    "    loss='mae',\n",
    "    metrics=['mae'],\n",
    ")\n",
    "EPOCHS = 100\n",
    "history = model.fit(\n",
    "    X_train, y_train,\n",
    "    validation_data=(X_valid, y_valid),\n",
    "    batch_size=64,\n",
    "    epochs=EPOCHS,\n",
    "    verbose=0,\n",
    ")\n",
    "\n",
    "history_df = pd.DataFrame(history.history)\n",
    "history_df.loc[0:, ['loss', 'val_loss']].plot()\n",
    "print((\"Minimum Validation Loss: {:0.4f}\").format(history_df['val_loss'].min()))"
   ]
  },
  {
   "cell_type": "markdown",
   "id": "dd312611",
   "metadata": {
    "papermill": {
     "duration": 0.011209,
     "end_time": "2024-10-01T21:32:38.097108",
     "exception": false,
     "start_time": "2024-10-01T21:32:38.085899",
     "status": "completed"
    },
    "tags": []
   },
   "source": [
    "# 4) Evaluate Batch Normalization\n",
    "\n",
    "Did adding batch normalization help?"
   ]
  },
  {
   "cell_type": "code",
   "execution_count": 12,
   "id": "1839ff9e",
   "metadata": {
    "execution": {
     "iopub.execute_input": "2024-10-01T21:32:38.121463Z",
     "iopub.status.busy": "2024-10-01T21:32:38.120245Z",
     "iopub.status.idle": "2024-10-01T21:32:38.130056Z",
     "shell.execute_reply": "2024-10-01T21:32:38.128910Z"
    },
    "lines_to_next_cell": 0,
    "papermill": {
     "duration": 0.024526,
     "end_time": "2024-10-01T21:32:38.132497",
     "exception": false,
     "start_time": "2024-10-01T21:32:38.107971",
     "status": "completed"
    },
    "tags": []
   },
   "outputs": [
    {
     "data": {
      "application/javascript": [
       "parent.postMessage({\"jupyterEvent\": \"custom.exercise_interaction\", \"data\": {\"outcomeType\": 1, \"valueTowardsCompletion\": 0.25, \"interactionType\": 1, \"questionType\": 4, \"questionId\": \"4_Q4\", \"learnToolsVersion\": \"0.3.4\", \"failureMessage\": \"\", \"exceptionClass\": \"\", \"trace\": \"\"}}, \"*\")"
      ],
      "text/plain": [
       "<IPython.core.display.Javascript object>"
      ]
     },
     "metadata": {},
     "output_type": "display_data"
    },
    {
     "data": {
      "text/markdown": [
       "<span style=\"color:#33cc33\">Correct:</span> \n",
       "\n",
       "\n",
       "You can see that adding batch normalization was a big improvement on the first attempt! By adaptively scaling the data as it passes through the network, batch normalization can let you train models on difficult datasets.\n"
      ],
      "text/plain": [
       "Correct: \n",
       "\n",
       "\n",
       "You can see that adding batch normalization was a big improvement on the first attempt! By adaptively scaling the data as it passes through the network, batch normalization can let you train models on difficult datasets."
      ]
     },
     "metadata": {},
     "output_type": "display_data"
    }
   ],
   "source": [
    "# View the solution (Run this cell to receive credit!)\n",
    "q_4.check()"
   ]
  },
  {
   "cell_type": "markdown",
   "id": "882fe149",
   "metadata": {
    "papermill": {
     "duration": 0.011584,
     "end_time": "2024-10-01T21:32:38.155362",
     "exception": false,
     "start_time": "2024-10-01T21:32:38.143778",
     "status": "completed"
    },
    "tags": []
   },
   "source": [
    "# Keep Going #\n",
    "\n",
    "[**Create neural networks**](https://www.kaggle.com/ryanholbrook/binary-classification) for binary classification."
   ]
  },
  {
   "cell_type": "markdown",
   "id": "3e2bfeac",
   "metadata": {
    "papermill": {
     "duration": 0.011513,
     "end_time": "2024-10-01T21:32:38.178324",
     "exception": false,
     "start_time": "2024-10-01T21:32:38.166811",
     "status": "completed"
    },
    "tags": []
   },
   "source": [
    "---\n",
    "\n",
    "\n",
    "\n",
    "\n",
    "*Have questions or comments? Visit the [course discussion forum](https://www.kaggle.com/learn/intro-to-deep-learning/discussion) to chat with other learners.*"
   ]
  }
 ],
 "metadata": {
  "jupytext": {
   "cell_metadata_filter": "-all",
   "formats": "ipynb"
  },
  "kaggle": {
   "accelerator": "gpu",
   "dataSources": [
    {
     "datasetId": 829369,
     "sourceId": 1480608,
     "sourceType": "datasetVersion"
    }
   ],
   "dockerImageVersionId": 30648,
   "isGpuEnabled": true,
   "isInternetEnabled": false,
   "language": "python",
   "sourceType": "notebook"
  },
  "kernelspec": {
   "display_name": "Python 3",
   "language": "python",
   "name": "python3"
  },
  "language_info": {
   "codemirror_mode": {
    "name": "ipython",
    "version": 3
   },
   "file_extension": ".py",
   "mimetype": "text/x-python",
   "name": "python",
   "nbconvert_exporter": "python",
   "pygments_lexer": "ipython3",
   "version": "3.10.13"
  },
  "papermill": {
   "default_parameters": {},
   "duration": 65.243887,
   "end_time": "2024-10-01T21:32:39.917451",
   "environment_variables": {},
   "exception": null,
   "input_path": "__notebook__.ipynb",
   "output_path": "__notebook__.ipynb",
   "parameters": {},
   "start_time": "2024-10-01T21:31:34.673564",
   "version": "2.5.0"
  }
 },
 "nbformat": 4,
 "nbformat_minor": 5
}
